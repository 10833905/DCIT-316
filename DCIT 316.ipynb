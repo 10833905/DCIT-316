{
 "cells": [
  {
   "cell_type": "code",
   "execution_count": 1,
   "id": "94c94497",
   "metadata": {},
   "outputs": [
    {
     "name": "stdout",
     "output_type": "stream",
     "text": [
      "Requirement already satisfied: tweepy in c:\\users\\gifty\\anaconda3\\lib\\site-packages (4.10.0)\n",
      "Requirement already satisfied: oauthlib<4,>=3.2.0 in c:\\users\\gifty\\anaconda3\\lib\\site-packages (from tweepy) (3.2.0)\n",
      "Requirement already satisfied: requests<3,>=2.27.0 in c:\\users\\gifty\\anaconda3\\lib\\site-packages (from tweepy) (2.27.1)\n",
      "Requirement already satisfied: requests-oauthlib<2,>=1.2.0 in c:\\users\\gifty\\anaconda3\\lib\\site-packages (from tweepy) (1.3.1)\n",
      "Requirement already satisfied: urllib3<1.27,>=1.21.1 in c:\\users\\gifty\\anaconda3\\lib\\site-packages (from requests<3,>=2.27.0->tweepy) (1.26.9)\n",
      "Requirement already satisfied: certifi>=2017.4.17 in c:\\users\\gifty\\anaconda3\\lib\\site-packages (from requests<3,>=2.27.0->tweepy) (2021.10.8)\n",
      "Requirement already satisfied: idna<4,>=2.5 in c:\\users\\gifty\\anaconda3\\lib\\site-packages (from requests<3,>=2.27.0->tweepy) (3.3)\n",
      "Requirement already satisfied: charset-normalizer~=2.0.0 in c:\\users\\gifty\\anaconda3\\lib\\site-packages (from requests<3,>=2.27.0->tweepy) (2.0.4)\n",
      "Note: you may need to restart the kernel to use updated packages.\n"
     ]
    }
   ],
   "source": [
    "pip install tweepy"
   ]
  },
  {
   "cell_type": "code",
   "execution_count": 2,
   "id": "bfc04009",
   "metadata": {},
   "outputs": [],
   "source": [
    "import tweepy\n",
    "import pandas as pd\n",
    "import numpy as np\n"
   ]
  },
  {
   "cell_type": "code",
   "execution_count": 11,
   "id": "3430f539",
   "metadata": {},
   "outputs": [],
   "source": [
    "import tweepy\n",
    "import config\n",
    "#Authentication\n",
    "Api_Key = 'sxOd1kgd4yObLYpngxl0ICQC7'\n",
    "Api_Secret = 'CD4HZ7henDv8qyt3AZ6dqkSFWVhMCdUkPT53P2K18wpvpCWCvX'\n",
    "accessToken = '1559885617714053120-lnGftOUKVtuEoddoWoatlnYdWBsWnY'\n",
    "accessTokenSecret =  'TYD6uAedLJn8PqaAG6ONgJ3X23QnOeCaSIh5GFMhpwaHF'\n",
    "BearerToken ='AAAAAAAAAAAAAAAAAAAAAIhFgAEAAAAAktrKfTvVrd5Oq%2FF7fEsdUJogBpI%3DSE6j1zekMrpVdOpUxWaoyeeB2fud4yOOKZu2JebNXXpLWI4RNA'\n",
    "\n",
    "auth = tweepy.OAuthHandler(Api_Key,Api_Secret)\n",
    "auth.set_access_token(accessToken,accessTokenSecret)\n",
    "\n"
   ]
  },
  {
   "cell_type": "code",
   "execution_count": 19,
   "id": "0984ed8d",
   "metadata": {},
   "outputs": [],
   "source": [
    "#create client object\n",
    "client = tweepy.Client(bearer_token=BearerToken)"
   ]
  },
  {
   "cell_type": "code",
   "execution_count": 30,
   "id": "fe2e75d5",
   "metadata": {},
   "outputs": [
    {
     "data": {
      "text/plain": [
       "Response(data=[<Tweet id=1561466673277898752 text='@mr_sarkodie_ Serious'>, <Tweet id=1561466509066641415 text='@KinaataGh\\n#TrendingNow #sarkodie #stonebwoy #idoghana #zionfelix #kofikinaata https://t.co/zNxOafEUrP'>, <Tweet id=1561466304368111616 text='#NowPlaying Some Way (Prod. Lil Shaker) by Guru feat. Sarkodie |[STREAM NOW https://t.co/8lFAeABo5V] listen now {https://t.co/TP5EfjoWNl} #dremtgi #dremstuff'>, <Tweet id=1561465968781557761 text='@boy_director It’s Sarkodie'>, <Tweet id=1561465877240889345 text='@sarkodie This tune dey really gv me more orgasm 🇬🇭🇬🇭🇬🇭🇬🇭🇬🇭😋😋😋😋😋😋😋'>, <Tweet id=1561465491155288065 text='@cdzas You are the biggest how can a scholar like u don’t find something to do why do u envy Sarkodie is he your scapegoat ?Did u went  to university to get a degree to be someone’s mouthpiece to insult people. Awwwww 👎🏽👎🏽😂'>, <Tweet id=1561465181208731654 text='@Donsarkcess @sarkodie Ei so your WhatsApp dey work?'>, <Tweet id=1561464605058154496 text='@XXL Sarkodie🇬🇭'>, <Tweet id=1561464439890649091 text=\"@sarkodie Landlord and son's on heats 🔥\\n#JiggerRemix 💥\">, <Tweet id=1561464410006343691 text='@baafinelson @sarkodie @DownloaderBot'>], includes={}, errors=[], meta={'newest_id': '1561466673277898752', 'oldest_id': '1561464410006343691', 'result_count': 10, 'next_token': 'b26v89c19zqg8o3fpz8kbcmev8o27hyzk188vx5bohjlp'})"
      ]
     },
     "execution_count": 30,
     "metadata": {},
     "output_type": "execute_result"
    }
   ],
   "source": [
    "#initial tweet search query\n",
    "query= 'Sarkodie -is:retweet'\n",
    "Data = client.search_recent_tweets(query=query)\n",
    "#view tweets\n",
    "Data\n",
    "\n"
   ]
  },
  {
   "cell_type": "code",
   "execution_count": 37,
   "id": "0453fcc2",
   "metadata": {},
   "outputs": [
    {
     "name": "stdout",
     "output_type": "stream",
     "text": [
      "1561466673277898752 : @mr_sarkodie_ Serious\n",
      "\n",
      "1561466509066641415 : @KinaataGh\n",
      "#TrendingNow #sarkodie #stonebwoy #idoghana #zionfelix #kofikinaata https://t.co/zNxOafEUrP\n",
      "\n",
      "1561466304368111616 : #NowPlaying Some Way (Prod. Lil Shaker) by Guru feat. Sarkodie |[STREAM NOW https://t.co/8lFAeABo5V] listen now {https://t.co/TP5EfjoWNl} #dremtgi #dremstuff\n",
      "\n",
      "1561465968781557761 : @boy_director It’s Sarkodie\n",
      "\n",
      "1561465877240889345 : @sarkodie This tune dey really gv me more orgasm 🇬🇭🇬🇭🇬🇭🇬🇭🇬🇭😋😋😋😋😋😋😋\n",
      "\n",
      "1561465491155288065 : @cdzas You are the biggest how can a scholar like u don’t find something to do why do u envy Sarkodie is he your scapegoat ?Did u went  to university to get a degree to be someone’s mouthpiece to insult people. Awwwww 👎🏽👎🏽😂\n",
      "\n",
      "1561465181208731654 : @Donsarkcess @sarkodie Ei so your WhatsApp dey work?\n",
      "\n",
      "1561464605058154496 : @XXL Sarkodie🇬🇭\n",
      "\n",
      "1561464439890649091 : @sarkodie Landlord and son's on heats 🔥\n",
      "#JiggerRemix 💥\n",
      "\n",
      "1561464410006343691 : @baafinelson @sarkodie @DownloaderBot\n",
      "\n"
     ]
    }
   ],
   "source": [
    "#Printing out each tweet\n",
    "for tweet in Data.data:\n",
    "    print(tweet.id, ':', tweet.text)\n",
    "    print()"
   ]
  },
  {
   "cell_type": "code",
   "execution_count": 39,
   "id": "5bf266d0",
   "metadata": {},
   "outputs": [
    {
     "data": {
      "text/plain": [
       "Response(data=[<Tweet id=1561470962410917895 text='@Rap @gyaigyimii Sarkodie also in Greece 🤔'>, <Tweet id=1561470831418658817 text='Marry Me by @sarkodie ft. @sian🥰'>, <Tweet id=1561470528120127488 text='Kanye in Greece \\nSarkodie in Greece \\n\\nAre you thinking 🤔 of what am thinking 🤔 https://t.co/FBKWglnH48'>, <Tweet id=1561470455344676865 text='@sarkodie 🔥🔥🔥🔥'>, <Tweet id=1561470401288470528 text='Ordinary Love by @sarkodie ft. @TiwaSavage ❤️'>, <Tweet id=1561470372683423752 text=\"@sarkodie RAP GOD'S\">, <Tweet id=1561470232031596544 text='@sarkodie KAISH beautiful brand new day'>, <Tweet id=1561470015601352705 text='Sarkodie https://t.co/pVHgOYmjqf'>, <Tweet id=1561469289814687745 text='@TunnelMusic_GRP @Eldeezy_Live @sarkodie Maaaaaaaaaaad🔥🥶🥶🥶'>, <Tweet id=1561469020850864128 text='@Rap Kanye west and Sarkodie must be cooking something nice 🔥'>], includes={}, errors=[], meta={'newest_id': '1561470962410917895', 'oldest_id': '1561469020850864128', 'result_count': 10, 'next_token': 'b26v89c19zqg8o3fpz8kbcmf2sxfcvilfp3suxdtxazr1'})"
      ]
     },
     "execution_count": 39,
     "metadata": {},
     "output_type": "execute_result"
    }
   ],
   "source": [
    "#More tweet fields\n",
    "Data = client.search_recent_tweets(query=query, tweet_fields=['lang','created_at'])\n",
    "#View Data\n",
    "Data\n"
   ]
  },
  {
   "cell_type": "code",
   "execution_count": 40,
   "id": "8bc8ea53",
   "metadata": {},
   "outputs": [
    {
     "name": "stdout",
     "output_type": "stream",
     "text": [
      "en\n",
      "2022-08-21 21:51:02+00:00\n",
      "en\n",
      "2022-08-21 21:50:31+00:00\n",
      "en\n",
      "2022-08-21 21:49:19+00:00\n",
      "und\n",
      "2022-08-21 21:49:01+00:00\n",
      "en\n",
      "2022-08-21 21:48:49+00:00\n",
      "en\n",
      "2022-08-21 21:48:42+00:00\n",
      "en\n",
      "2022-08-21 21:48:08+00:00\n",
      "fr\n",
      "2022-08-21 21:47:17+00:00\n",
      "und\n",
      "2022-08-21 21:44:24+00:00\n",
      "en\n",
      "2022-08-21 21:43:19+00:00\n"
     ]
    }
   ],
   "source": [
    "for tweet in Data.data:\n",
    "    print(tweet.lang)\n",
    "    print(tweet.created_at)"
   ]
  },
  {
   "cell_type": "code",
   "execution_count": 42,
   "id": "1ef7ff8f",
   "metadata": {},
   "outputs": [
    {
     "ename": "SyntaxError",
     "evalue": "positional argument follows keyword argument (914021442.py, line 1)",
     "output_type": "error",
     "traceback": [
      "\u001b[1;36m  Input \u001b[1;32mIn [42]\u001b[1;36m\u001b[0m\n\u001b[1;33m    Data = client.search_recent_tweets(query=query, tweets_fields['land','created_at'],xpansions =['author_id'])\u001b[0m\n\u001b[1;37m                                                                                                               ^\u001b[0m\n\u001b[1;31mSyntaxError\u001b[0m\u001b[1;31m:\u001b[0m positional argument follows keyword argument\n"
     ]
    }
   ],
   "source": []
  },
  {
   "cell_type": "code",
   "execution_count": 48,
   "id": "cda9bbe3",
   "metadata": {},
   "outputs": [
    {
     "data": {
      "text/plain": [
       "[<User id=1269425168478281729 name=SaY_iT_aS_iT_iS! 🕗 username=No1Stan_>,\n",
       " <User id=1226333320688132096 name=Azeey 😁 username=harunnicles>,\n",
       " <User id=772159782220361728 name=SHIDLAMAR username=official_achiaw>,\n",
       " <User id=1452944487806820357 name=Highest Johnson username=highest_johnson>,\n",
       " <User id=1196532454070345729 name=raymond username=raymond94724167>,\n",
       " <User id=1382940667979124738 name=UBERGUYOFFICIAL 🇬🇭❤ username=the_RealSeyram>,\n",
       " <User id=2244187932 name=Kwesi Picasso.eth 🐺 username=Donsarkcess>,\n",
       " <User id=1009308809754537985 name=❤️❤️❤️ username=explorer12349>]"
      ]
     },
     "execution_count": 48,
     "metadata": {},
     "output_type": "execute_result"
    }
   ],
   "source": [
    "#More tweet field\n",
    "Data = client.search_recent_tweets(query=query,expansions=['author_id'])\n",
    "#View user\n",
    "Users =Data.includes['users']\n",
    "Users"
   ]
  },
  {
   "cell_type": "code",
   "execution_count": 50,
   "id": "a330c2d2",
   "metadata": {},
   "outputs": [
    {
     "name": "stdout",
     "output_type": "stream",
     "text": [
      "1269425168478281729\n",
      "SaY_iT_aS_iT_iS! 🕗\n",
      "No1Stan_\n",
      "\n",
      "1226333320688132096\n",
      "Azeey 😁\n",
      "harunnicles\n",
      "\n",
      "772159782220361728\n",
      "SHIDLAMAR\n",
      "official_achiaw\n",
      "\n",
      "1452944487806820357\n",
      "Highest Johnson\n",
      "highest_johnson\n",
      "\n",
      "1196532454070345729\n",
      "raymond\n",
      "raymond94724167\n",
      "\n",
      "1382940667979124738\n",
      "UBERGUYOFFICIAL 🇬🇭❤\n",
      "the_RealSeyram\n",
      "\n",
      "2244187932\n",
      "Kwesi Picasso.eth 🐺\n",
      "Donsarkcess\n",
      "\n",
      "1009308809754537985\n",
      "❤️❤️❤️\n",
      "explorer12349\n",
      "\n"
     ]
    }
   ],
   "source": [
    "#View user details\n",
    "for user in Users:\n",
    "    print(user.id)\n",
    "    print(user.name)\n",
    "    print(user.username)\n",
    "    print()"
   ]
  },
  {
   "cell_type": "code",
   "execution_count": 71,
   "id": "0f9abf1d",
   "metadata": {},
   "outputs": [
    {
     "name": "stdout",
     "output_type": "stream",
     "text": [
      "https://pbs.twimg.com/profile_images/1553763998881005569/whXH0R1W_normal.jpg\n",
      "https://pbs.twimg.com/profile_images/1486634448661757953/IdAsnJCX_normal.jpg\n",
      "https://pbs.twimg.com/profile_images/1554112379906101248/BsRVjPqW_normal.jpg\n",
      "https://pbs.twimg.com/profile_images/1495708178817953793/ov5xud8u_normal.jpg\n",
      "https://pbs.twimg.com/profile_images/1517325995442950146/lt6Fv3t-_normal.jpg\n",
      "https://pbs.twimg.com/profile_images/1511342747655024642/IELKToyh_normal.jpg\n",
      "https://pbs.twimg.com/profile_images/1554123744322387972/LXsvAyeE_normal.jpg\n",
      "https://pbs.twimg.com/profile_images/1551824638593884161/E0UvXqov_normal.jpg\n",
      "https://pbs.twimg.com/profile_images/1434440584790519814/qwXVhAN4_normal.jpg\n",
      "https://pbs.twimg.com/profile_images/1559630514285383683/vk9xTZh9_normal.jpg\n"
     ]
    }
   ],
   "source": [
    "Data = client.search_recent_tweets(query=query,tweet_fields=['lang','created_at'],expansions=['author_id'],user_fields=['profile_image_url'])\n",
    "\n",
    "#Get all the users\n",
    "Users= Data.includes['users']\n",
    "Users\n",
    "\n",
    "for user in Users:\n",
    "    print(user.profile_image_url)\n",
    "    \n"
   ]
  },
  {
   "cell_type": "code",
   "execution_count": 96,
   "id": "d13f5674",
   "metadata": {},
   "outputs": [
    {
     "name": "stdout",
     "output_type": "stream",
     "text": [
      "Empty DataFrame\n",
      "Columns: [Name, User_ID, Tweet_text, Tweet_Date, Username, Bio, Profile_image, Tweet_language, Tweet_ID]\n",
      "Index: []\n"
     ]
    }
   ],
   "source": [
    "tweetData=pd.DataFrame(columns = {'User_ID','Name', 'Username', 'Profile_image', 'Bio', 'Tweet_ID', 'Tweet_Date',\n",
    "'Tweet_language', 'Tweet_text'})\n",
    "print(tweetData)"
   ]
  },
  {
   "cell_type": "code",
   "execution_count": 95,
   "id": "d2109e5b",
   "metadata": {},
   "outputs": [
    {
     "name": "stdout",
     "output_type": "stream",
     "text": [
      "10\n",
      "10\n"
     ]
    },
    {
     "data": {
      "text/plain": [
       "[<User id=1538484545795854337 name=Oss Triumph username=Oss_triumph>,\n",
       " <User id=1341158524194320384 name=skai❣️ username=MaameEf03963061>,\n",
       " <User id=1185583654073962496 name=Psycho Nurse username=datpsychonurse>,\n",
       " <User id=1059423272062894080 name=CEE-GEE username=CeegeeDe>,\n",
       " <User id=1451090704499986432 name=STREAM SON OF JACOB by @KWESIATHUR_ username=sonofjacob98>,\n",
       " <User id=1250774597194190849 name=Kojo Essel username=Kojotee12>,\n",
       " <User id=1128570075018137600 name=Move On 🦅 username=a_stanley1>,\n",
       " <User id=869273007436562432 name=Nana Fapimso 👊 username=pnorvinyo_17>,\n",
       " <User id=3002958059 name=Anokye twi bible 👑💜 username=anokyedenolf>,\n",
       " <User id=1215604545973374981 name=Mario Balotelli (Super) 🇬🇭🇪🇬🇮🇹 username=MuhammadNtim>]"
      ]
     },
     "execution_count": 95,
     "metadata": {},
     "output_type": "execute_result"
    }
   ],
   "source": [
    "newUsers=Data.includes['users']\n",
    "print(len(Data.data))\n",
    "print(len(newUsers))\n",
    "\n",
    "#View tweet data\n",
    "Data.data[0].text\n",
    "#View tweet new user\n",
    "newUsers"
   ]
  },
  {
   "cell_type": "code",
   "execution_count": 102,
   "id": "342ee60a",
   "metadata": {},
   "outputs": [
    {
     "name": "stdout",
     "output_type": "stream",
     "text": [
      "10\n",
      "{'User_ID': 1538484545795854337, 'Name': 'Oss Triumph', 'Username': 'Oss_triumph', 'Profile_image': 'https://pbs.twimg.com/profile_images/1553763998881005569/whXH0R1W_normal.jpg', 'Tweet_ID': 1561486162799349761, 'Tweet_Date': datetime.datetime(2022, 8, 21, 22, 51, 26, tzinfo=datetime.timezone.utc), 'Tweet_lang': 'en', 'Tweet_text': '@HipHopAwards @sarkodie KingSark @sarkodie in Greece Working\\n🐐🤴🏾⭐✊🏾✌🏾 https://t.co/YBut3OADWC'}\n",
      "\n"
     ]
    },
    {
     "name": "stderr",
     "output_type": "stream",
     "text": [
      "C:\\Users\\Gifty\\AppData\\Local\\Temp\\ipykernel_1456\\1909743091.py:28: FutureWarning: The frame.append method is deprecated and will be removed from pandas in a future version. Use pandas.concat instead.\n",
      "  tweetData = tweetData.append(userDetails, ignore_index=True)\n"
     ]
    },
    {
     "name": "stdout",
     "output_type": "stream",
     "text": [
      "{'User_ID': 1341158524194320384, 'Name': 'skai❣️', 'Username': 'MaameEf03963061', 'Profile_image': 'https://pbs.twimg.com/profile_images/1486634448661757953/IdAsnJCX_normal.jpg', 'Tweet_ID': 1561486135817379842, 'Tweet_Date': datetime.datetime(2022, 8, 21, 22, 51, 20, tzinfo=datetime.timezone.utc), 'Tweet_lang': 'en', 'Tweet_text': '@LilEmdee @BET @sarkodie You are stupid'}\n",
      "\n",
      "{'User_ID': 1185583654073962496, 'Name': 'Psycho Nurse', 'Username': 'datpsychonurse', 'Profile_image': 'https://pbs.twimg.com/profile_images/1554112379906101248/BsRVjPqW_normal.jpg', 'Tweet_ID': 1561486087289176065, 'Tweet_Date': datetime.datetime(2022, 8, 21, 22, 51, 8, tzinfo=datetime.timezone.utc), 'Tweet_lang': 'qme', 'Tweet_text': '@XXL @sarkodie https://t.co/eEyuz3PaZZ'}\n",
      "\n",
      "{'User_ID': 1059423272062894080, 'Name': 'CEE-GEE', 'Username': 'CeegeeDe', 'Profile_image': 'https://pbs.twimg.com/profile_images/1495708178817953793/ov5xud8u_normal.jpg', 'Tweet_ID': 1561486064560345088, 'Tweet_Date': datetime.datetime(2022, 8, 21, 22, 51, 3, tzinfo=datetime.timezone.utc), 'Tweet_lang': 'en', 'Tweet_text': '@HipHopAwards @sarkodie Hope the king is performing'}\n",
      "\n",
      "{'User_ID': 1451090704499986432, 'Name': 'STREAM SON OF JACOB by @KWESIATHUR_', 'Username': 'sonofjacob98', 'Profile_image': 'https://pbs.twimg.com/profile_images/1517325995442950146/lt6Fv3t-_normal.jpg', 'Tweet_ID': 1561486063360778240, 'Tweet_Date': datetime.datetime(2022, 8, 21, 22, 51, 3, tzinfo=datetime.timezone.utc), 'Tweet_lang': 'en', 'Tweet_text': '@LilEmdee @BET @sarkodie You’re a mad man'}\n",
      "\n",
      "{'User_ID': 1250774597194190849, 'Name': 'Kojo Essel', 'Username': 'Kojotee12', 'Profile_image': 'https://pbs.twimg.com/profile_images/1511342747655024642/IELKToyh_normal.jpg', 'Tweet_ID': 1561485914609696769, 'Tweet_Date': datetime.datetime(2022, 8, 21, 22, 50, 27, tzinfo=datetime.timezone.utc), 'Tweet_lang': 'en', 'Tweet_text': \"@LilEmdee @BET @sarkodie Oh bro so what has he done that's tribalistic and you put your mum too up for insults🤦\\u200d♂️\"}\n",
      "\n",
      "{'User_ID': 1128570075018137600, 'Name': 'Move On 🦅', 'Username': 'a_stanley1', 'Profile_image': 'https://pbs.twimg.com/profile_images/1554123744322387972/LXsvAyeE_normal.jpg', 'Tweet_ID': 1561485894745464832, 'Tweet_Date': datetime.datetime(2022, 8, 21, 22, 50, 22, tzinfo=datetime.timezone.utc), 'Tweet_lang': 'en', 'Tweet_text': '@HipHopAwards @sarkodie Sarkodie performing this year ❤️❤️❤️'}\n",
      "\n",
      "{'User_ID': 869273007436562432, 'Name': 'Nana Fapimso 👊', 'Username': 'pnorvinyo_17', 'Profile_image': 'https://pbs.twimg.com/profile_images/1551824638593884161/E0UvXqov_normal.jpg', 'Tweet_ID': 1561485851615498247, 'Tweet_Date': datetime.datetime(2022, 8, 21, 22, 50, 12, tzinfo=datetime.timezone.utc), 'Tweet_lang': 'en', 'Tweet_text': '@HipHopAwards @ruthdzissah @sarkodie Another payment here, Ei.. Kofi Wusu here too u pay for hype ong?? Aaaahhh.. I see 🤣😂😂'}\n",
      "\n",
      "{'User_ID': 3002958059, 'Name': 'Anokye twi bible 👑💜', 'Username': 'anokyedenolf', 'Profile_image': 'https://pbs.twimg.com/profile_images/1434440584790519814/qwXVhAN4_normal.jpg', 'Tweet_ID': 1561485846473326594, 'Tweet_Date': datetime.datetime(2022, 8, 21, 22, 50, 11, tzinfo=datetime.timezone.utc), 'Tweet_lang': 'und', 'Tweet_text': '@BETMusic @sarkodie 🔥🔥🔥'}\n",
      "\n",
      "{'User_ID': 1215604545973374981, 'Name': 'Mario Balotelli (Super) 🇬🇭🇪🇬🇮🇹', 'Username': 'MuhammadNtim', 'Profile_image': 'https://pbs.twimg.com/profile_images/1559630514285383683/vk9xTZh9_normal.jpg', 'Tweet_ID': 1561485813308866560, 'Tweet_Date': datetime.datetime(2022, 8, 21, 22, 50, 3, tzinfo=datetime.timezone.utc), 'Tweet_lang': 'en', 'Tweet_text': 'Legendary by the legend @sarkodie 👍🏾 Blessed bro🙏'}\n",
      "\n"
     ]
    },
    {
     "name": "stderr",
     "output_type": "stream",
     "text": [
      "C:\\Users\\Gifty\\AppData\\Local\\Temp\\ipykernel_1456\\1909743091.py:28: FutureWarning: The frame.append method is deprecated and will be removed from pandas in a future version. Use pandas.concat instead.\n",
      "  tweetData = tweetData.append(userDetails, ignore_index=True)\n",
      "C:\\Users\\Gifty\\AppData\\Local\\Temp\\ipykernel_1456\\1909743091.py:28: FutureWarning: The frame.append method is deprecated and will be removed from pandas in a future version. Use pandas.concat instead.\n",
      "  tweetData = tweetData.append(userDetails, ignore_index=True)\n",
      "C:\\Users\\Gifty\\AppData\\Local\\Temp\\ipykernel_1456\\1909743091.py:28: FutureWarning: The frame.append method is deprecated and will be removed from pandas in a future version. Use pandas.concat instead.\n",
      "  tweetData = tweetData.append(userDetails, ignore_index=True)\n",
      "C:\\Users\\Gifty\\AppData\\Local\\Temp\\ipykernel_1456\\1909743091.py:28: FutureWarning: The frame.append method is deprecated and will be removed from pandas in a future version. Use pandas.concat instead.\n",
      "  tweetData = tweetData.append(userDetails, ignore_index=True)\n",
      "C:\\Users\\Gifty\\AppData\\Local\\Temp\\ipykernel_1456\\1909743091.py:28: FutureWarning: The frame.append method is deprecated and will be removed from pandas in a future version. Use pandas.concat instead.\n",
      "  tweetData = tweetData.append(userDetails, ignore_index=True)\n",
      "C:\\Users\\Gifty\\AppData\\Local\\Temp\\ipykernel_1456\\1909743091.py:28: FutureWarning: The frame.append method is deprecated and will be removed from pandas in a future version. Use pandas.concat instead.\n",
      "  tweetData = tweetData.append(userDetails, ignore_index=True)\n",
      "C:\\Users\\Gifty\\AppData\\Local\\Temp\\ipykernel_1456\\1909743091.py:28: FutureWarning: The frame.append method is deprecated and will be removed from pandas in a future version. Use pandas.concat instead.\n",
      "  tweetData = tweetData.append(userDetails, ignore_index=True)\n",
      "C:\\Users\\Gifty\\AppData\\Local\\Temp\\ipykernel_1456\\1909743091.py:28: FutureWarning: The frame.append method is deprecated and will be removed from pandas in a future version. Use pandas.concat instead.\n",
      "  tweetData = tweetData.append(userDetails, ignore_index=True)\n",
      "C:\\Users\\Gifty\\AppData\\Local\\Temp\\ipykernel_1456\\1909743091.py:28: FutureWarning: The frame.append method is deprecated and will be removed from pandas in a future version. Use pandas.concat instead.\n",
      "  tweetData = tweetData.append(userDetails, ignore_index=True)\n"
     ]
    }
   ],
   "source": [
    "# Initialize dictionary to hold user details\n",
    "userDetails = {\n",
    "    'User_ID':'',\n",
    "    'Name':'',\n",
    "    'Username':'',\n",
    "    'Profile_image':'',\n",
    "    'Tweet_ID':'',\n",
    "    'Tweet_Date':'',\n",
    "    'Tweet_lang':'',\n",
    "    'Tweet_text':''\n",
    "}\n",
    "\n",
    "print(len(Data.data))\n",
    "\n",
    "# Loop through each tweet and fish out the needed details\n",
    "for i in range(len(Data.data)):\n",
    "    userDetails['User_ID'] = newUsers[i].id\n",
    "    userDetails['Name'] = newUsers[i].name\n",
    "    userDetails['Username'] = newUsers[i].username\n",
    "    userDetails['Profile_image'] = newUsers[i].profile_image_url\n",
    "    userDetails['Tweet_ID'] = Data[0][i].id\n",
    "    userDetails['Tweet_Date'] = Data[0][i].created_at\n",
    "    userDetails['Tweet_lang'] = Data[0][i].lang\n",
    "    userDetails['Tweet_text'] = Data[0][i].text\n",
    "    \n",
    "    print(userDetails)\n",
    "    print()\n",
    "    tweetData = tweetData.append(userDetails, ignore_index=True)   \n",
    "  \n",
    "\n",
    "\n"
   ]
  },
  {
   "cell_type": "code",
   "execution_count": 104,
   "id": "d55ba98f",
   "metadata": {},
   "outputs": [
    {
     "name": "stdout",
     "output_type": "stream",
     "text": [
      "10\n"
     ]
    }
   ],
   "source": [
    "#Initialize dictionary to hold user details\n",
    "userDetails = {\n",
    "    'User_ID':'',\n",
    "    'Name':'',\n",
    "    'Username':'',\n",
    "    'Profile_image':'',\n",
    "    'Tweet_ID':'',\n",
    "    'Tweet_Date':'',\n",
    "    'Tweet_lang':'',\n",
    "    'Tweet_text':''\n",
    "}\n",
    "\n",
    "print(len(tweetData))"
   ]
  },
  {
   "cell_type": "code",
   "execution_count": 105,
   "id": "1c08a6b4",
   "metadata": {},
   "outputs": [],
   "source": [
    "\n",
    "tweetData.to_csv('Tweets.csv', index=True)"
   ]
  },
  {
   "cell_type": "code",
   "execution_count": null,
   "id": "54ea089e",
   "metadata": {},
   "outputs": [],
   "source": []
  },
  {
   "cell_type": "code",
   "execution_count": null,
   "id": "016075d9",
   "metadata": {},
   "outputs": [],
   "source": []
  }
 ],
 "metadata": {
  "kernelspec": {
   "display_name": "Python 3.9.13 64-bit",
   "language": "python",
   "name": "python3"
  },
  "language_info": {
   "codemirror_mode": {
    "name": "ipython",
    "version": 3
   },
   "file_extension": ".py",
   "mimetype": "text/x-python",
   "name": "python",
   "nbconvert_exporter": "python",
   "pygments_lexer": "ipython3",
   "version": "3.9.13"
  },
  "vscode": {
   "interpreter": {
    "hash": "e0cd3d38aa7fcfe6202bf655e2b2abd2d37f11682b67dfd80fb34d72b46484f6"
   }
  }
 },
 "nbformat": 4,
 "nbformat_minor": 5
}
